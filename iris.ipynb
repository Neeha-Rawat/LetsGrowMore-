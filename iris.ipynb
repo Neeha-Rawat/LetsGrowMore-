{
 "cells": [
  {
   "cell_type": "markdown",
   "id": "f85f44f1",
   "metadata": {},
   "source": [
    "# Author : Neeha Rawat"
   ]
  },
  {
   "cell_type": "markdown",
   "id": "6de846f6",
   "metadata": {},
   "source": [
    "# Task 1"
   ]
  },
  {
   "cell_type": "markdown",
   "id": "37a63410",
   "metadata": {},
   "source": [
    "## Task - Iris Flower Classification ML Project"
   ]
  },
  {
   "cell_type": "markdown",
   "id": "1a582d46",
   "metadata": {},
   "source": [
    "#### In this task, we are given an iris flower dataset. The dataset contains sepal length, sepal width, petal length and petal width of different iris sample flowers. We have to classify the flowers into - Iris-setosa, Iris-versicolour and Iris-virginica based on their sepal's and petal's length and width. We have used K-means Clustering method."
   ]
  },
  {
   "cell_type": "markdown",
   "id": "feae0f98",
   "metadata": {},
   "source": [
    "### Importing Libraries"
   ]
  },
  {
   "cell_type": "code",
   "execution_count": 4,
   "id": "5aee3256",
   "metadata": {},
   "outputs": [],
   "source": [
    "import numpy as np\n",
    "import matplotlib.pyplot as plt\n",
    "import pandas as pd\n",
    "from sklearn import datasets"
   ]
  },
  {
   "cell_type": "markdown",
   "id": "539014de",
   "metadata": {},
   "source": [
    "### Loading Data and viewing 5 random rows"
   ]
  },
  {
   "cell_type": "code",
   "execution_count": 5,
   "id": "c5f9bb42",
   "metadata": {},
   "outputs": [
    {
     "data": {
      "text/html": [
       "<div>\n",
       "<style scoped>\n",
       "    .dataframe tbody tr th:only-of-type {\n",
       "        vertical-align: middle;\n",
       "    }\n",
       "\n",
       "    .dataframe tbody tr th {\n",
       "        vertical-align: top;\n",
       "    }\n",
       "\n",
       "    .dataframe thead th {\n",
       "        text-align: right;\n",
       "    }\n",
       "</style>\n",
       "<table border=\"1\" class=\"dataframe\">\n",
       "  <thead>\n",
       "    <tr style=\"text-align: right;\">\n",
       "      <th></th>\n",
       "      <th>sepal length (cm)</th>\n",
       "      <th>sepal width (cm)</th>\n",
       "      <th>petal length (cm)</th>\n",
       "      <th>petal width (cm)</th>\n",
       "    </tr>\n",
       "  </thead>\n",
       "  <tbody>\n",
       "    <tr>\n",
       "      <th>37</th>\n",
       "      <td>4.9</td>\n",
       "      <td>3.6</td>\n",
       "      <td>1.4</td>\n",
       "      <td>0.1</td>\n",
       "    </tr>\n",
       "    <tr>\n",
       "      <th>130</th>\n",
       "      <td>7.4</td>\n",
       "      <td>2.8</td>\n",
       "      <td>6.1</td>\n",
       "      <td>1.9</td>\n",
       "    </tr>\n",
       "    <tr>\n",
       "      <th>94</th>\n",
       "      <td>5.6</td>\n",
       "      <td>2.7</td>\n",
       "      <td>4.2</td>\n",
       "      <td>1.3</td>\n",
       "    </tr>\n",
       "    <tr>\n",
       "      <th>145</th>\n",
       "      <td>6.7</td>\n",
       "      <td>3.0</td>\n",
       "      <td>5.2</td>\n",
       "      <td>2.3</td>\n",
       "    </tr>\n",
       "    <tr>\n",
       "      <th>23</th>\n",
       "      <td>5.1</td>\n",
       "      <td>3.3</td>\n",
       "      <td>1.7</td>\n",
       "      <td>0.5</td>\n",
       "    </tr>\n",
       "  </tbody>\n",
       "</table>\n",
       "</div>"
      ],
      "text/plain": [
       "     sepal length (cm)  sepal width (cm)  petal length (cm)  petal width (cm)\n",
       "37                 4.9               3.6                1.4               0.1\n",
       "130                7.4               2.8                6.1               1.9\n",
       "94                 5.6               2.7                4.2               1.3\n",
       "145                6.7               3.0                5.2               2.3\n",
       "23                 5.1               3.3                1.7               0.5"
      ]
     },
     "execution_count": 5,
     "metadata": {},
     "output_type": "execute_result"
    }
   ],
   "source": [
    "iris=datasets.load_iris()\n",
    "iris_df=pd.DataFrame(iris.data,columns=iris.feature_names)\n",
    "iris_df.sample(5)"
   ]
  },
  {
   "cell_type": "code",
   "execution_count": 6,
   "id": "eb7eef3e",
   "metadata": {},
   "outputs": [],
   "source": [
    "x=iris_df.iloc[:,[0,1,2,3]].values"
   ]
  },
  {
   "cell_type": "markdown",
   "id": "90de9f47",
   "metadata": {},
   "source": [
    "### Importing KMeans and applying on given dataset to classify them"
   ]
  },
  {
   "cell_type": "code",
   "execution_count": 7,
   "id": "532bd871",
   "metadata": {},
   "outputs": [
    {
     "name": "stderr",
     "output_type": "stream",
     "text": [
      "C:\\Users\\Rawat\\anaconda3\\lib\\site-packages\\sklearn\\cluster\\_kmeans.py:881: UserWarning: KMeans is known to have a memory leak on Windows with MKL, when there are less chunks than available threads. You can avoid it by setting the environment variable OMP_NUM_THREADS=1.\n",
      "  warnings.warn(\n"
     ]
    },
    {
     "data": {
      "image/png": "[encoded data removed]",
      "text/plain": [
       "<Figure size 432x288 with 1 Axes>"
      ]
     },
     "metadata": {
      "needs_background": "light"
     },
     "output_type": "display_data"
    }
   ],
   "source": [
    "from sklearn.cluster import KMeans\n",
    "J=[]\n",
    "for i in range(1,11):\n",
    "    kmeans=KMeans(n_clusters=i,init='k-means++',max_iter=300,n_init=10,random_state=0)\n",
    "    kmeans.fit(x)\n",
    "    J.append(kmeans.inertia_)\n",
    "   \n",
    "plt.plot(range(1,11),J)\n",
    "plt.title('The Elbow Method')\n",
    "plt.xlabel('No. of clusters')\n",
    "plt.ylabel('J')\n",
    "plt.show()"
   ]
  },
  {
   "cell_type": "code",
   "execution_count": 8,
   "id": "4047845c",
   "metadata": {},
   "outputs": [],
   "source": [
    "kmeans=KMeans(n_clusters=3,init='k-means++',max_iter=300,n_init=10,random_state=0)\n",
    "y_kmeans=kmeans.fit_predict(x)"
   ]
  },
  {
   "cell_type": "markdown",
   "id": "9fb69d3d",
   "metadata": {},
   "source": [
    "### Visualizing data into clusters where each cluster is a different iris-type."
   ]
  },
  {
   "cell_type": "code",
   "execution_count": 9,
   "id": "644f7e0a",
   "metadata": {},
   "outputs": [
    {
     "data": {
      "text/plain": [
       "<matplotlib.legend.Legend at 0x21385c2edf0>"
      ]
     },
     "execution_count": 9,
     "metadata": {},
     "output_type": "execute_result"
    },
    {
     "data": {
      "image/png": "[encoded data removed]",
      "text/plain": [
       "<Figure size 432x288 with 1 Axes>"
      ]
     },
     "metadata": {
      "needs_background": "light"
     },
     "output_type": "display_data"
    }
   ],
   "source": [
    "plt.scatter(x[y_kmeans==0,0],x[y_kmeans==0,1],s=100,c='red',label='Iris-setosa')\n",
    "plt.scatter(x[y_kmeans==1,0],x[y_kmeans==1,1],s=100,c='blue',label='Iris-versicolour')\n",
    "plt.scatter(x[y_kmeans==2,0],x[y_kmeans==2,1],s=100,c='green',label='Iris-virginica')\n",
    "\n",
    "plt.scatter(kmeans.cluster_centers_[:,0],kmeans.cluster_centers_[:,1],s=100,c='yellow',label='centroids')\n",
    "plt.legend()"
   ]
  }
 ],
 "metadata": {
  "kernelspec": {
   "display_name": "Python 3",
   "language": "python",
   "name": "python3"
  },
  "language_info": {
   "codemirror_mode": {
    "name": "ipython",
    "version": 3
   },
   "file_extension": ".py",
   "mimetype": "text/x-python",
   "name": "python",
   "nbconvert_exporter": "python",
   "pygments_lexer": "ipython3",
   "version": "3.8.8"
  }
 },
 "nbformat": 4,
 "nbformat_minor": 5
}
